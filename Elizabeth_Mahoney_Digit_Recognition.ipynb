{
  "nbformat": 4,
  "nbformat_minor": 0,
  "metadata": {
    "colab": {
      "provenance": []
    },
    "kernelspec": {
      "name": "python3",
      "display_name": "Python 3"
    },
    "language_info": {
      "name": "python"
    },
    "widgets": {
      "application/vnd.jupyter.widget-state+json": {
        "88754cff593f49abb8f9fa4fcbc6a404": {
          "model_module": "@jupyter-widgets/controls",
          "model_name": "ImageModel",
          "model_module_version": "1.5.0",
          "state": {
            "_dom_classes": [],
            "_model_module": "@jupyter-widgets/controls",
            "_model_module_version": "1.5.0",
            "_model_name": "ImageModel",
            "_view_count": null,
            "_view_module": "@jupyter-widgets/controls",
            "_view_module_version": "1.5.0",
            "_view_name": "ImageView",
            "format": "png",
            "height": "",
            "layout": "IPY_MODEL_5aa9faf660f64e74839cdefae2c8006b",
            "width": ""
          }
        },
        "5aa9faf660f64e74839cdefae2c8006b": {
          "model_module": "@jupyter-widgets/base",
          "model_name": "LayoutModel",
          "model_module_version": "1.2.0",
          "state": {
            "_model_module": "@jupyter-widgets/base",
            "_model_module_version": "1.2.0",
            "_model_name": "LayoutModel",
            "_view_count": null,
            "_view_module": "@jupyter-widgets/base",
            "_view_module_version": "1.2.0",
            "_view_name": "LayoutView",
            "align_content": null,
            "align_items": null,
            "align_self": null,
            "border": null,
            "bottom": null,
            "display": null,
            "flex": null,
            "flex_flow": null,
            "grid_area": null,
            "grid_auto_columns": null,
            "grid_auto_flow": null,
            "grid_auto_rows": null,
            "grid_column": null,
            "grid_gap": null,
            "grid_row": null,
            "grid_template_areas": null,
            "grid_template_columns": null,
            "grid_template_rows": null,
            "height": null,
            "justify_content": null,
            "justify_items": null,
            "left": null,
            "margin": null,
            "max_height": null,
            "max_width": null,
            "min_height": null,
            "min_width": null,
            "object_fit": null,
            "object_position": null,
            "order": null,
            "overflow": null,
            "overflow_x": null,
            "overflow_y": null,
            "padding": null,
            "right": null,
            "top": null,
            "visibility": null,
            "width": null
          }
        },
        "33ee9d85a33245b18721536eb11a0eb7": {
          "model_module": "@jupyter-widgets/controls",
          "model_name": "ButtonModel",
          "model_module_version": "1.5.0",
          "state": {
            "_dom_classes": [],
            "_model_module": "@jupyter-widgets/controls",
            "_model_module_version": "1.5.0",
            "_model_name": "ButtonModel",
            "_view_count": null,
            "_view_module": "@jupyter-widgets/controls",
            "_view_module_version": "1.5.0",
            "_view_name": "ButtonView",
            "button_style": "",
            "description": "No Norm Prediction",
            "disabled": false,
            "icon": "",
            "layout": "IPY_MODEL_211b9beb6b4d4afda02e92e32af0170b",
            "style": "IPY_MODEL_d8caee2ce45c41f8ab5610e6076bf9f4",
            "tooltip": ""
          }
        },
        "211b9beb6b4d4afda02e92e32af0170b": {
          "model_module": "@jupyter-widgets/base",
          "model_name": "LayoutModel",
          "model_module_version": "1.2.0",
          "state": {
            "_model_module": "@jupyter-widgets/base",
            "_model_module_version": "1.2.0",
            "_model_name": "LayoutModel",
            "_view_count": null,
            "_view_module": "@jupyter-widgets/base",
            "_view_module_version": "1.2.0",
            "_view_name": "LayoutView",
            "align_content": null,
            "align_items": null,
            "align_self": null,
            "border": null,
            "bottom": null,
            "display": null,
            "flex": null,
            "flex_flow": null,
            "grid_area": null,
            "grid_auto_columns": null,
            "grid_auto_flow": null,
            "grid_auto_rows": null,
            "grid_column": null,
            "grid_gap": null,
            "grid_row": null,
            "grid_template_areas": null,
            "grid_template_columns": null,
            "grid_template_rows": null,
            "height": null,
            "justify_content": null,
            "justify_items": null,
            "left": null,
            "margin": null,
            "max_height": null,
            "max_width": null,
            "min_height": null,
            "min_width": null,
            "object_fit": null,
            "object_position": null,
            "order": null,
            "overflow": null,
            "overflow_x": null,
            "overflow_y": null,
            "padding": null,
            "right": null,
            "top": null,
            "visibility": null,
            "width": null
          }
        },
        "d8caee2ce45c41f8ab5610e6076bf9f4": {
          "model_module": "@jupyter-widgets/controls",
          "model_name": "ButtonStyleModel",
          "model_module_version": "1.5.0",
          "state": {
            "_model_module": "@jupyter-widgets/controls",
            "_model_module_version": "1.5.0",
            "_model_name": "ButtonStyleModel",
            "_view_count": null,
            "_view_module": "@jupyter-widgets/base",
            "_view_module_version": "1.2.0",
            "_view_name": "StyleView",
            "button_color": null,
            "font_weight": ""
          }
        },
        "5a470a91501c470ab5c190d6b78107b4": {
          "model_module": "@jupyter-widgets/controls",
          "model_name": "LabelModel",
          "model_module_version": "1.5.0",
          "state": {
            "_dom_classes": [],
            "_model_module": "@jupyter-widgets/controls",
            "_model_module_version": "1.5.0",
            "_model_name": "LabelModel",
            "_view_count": null,
            "_view_module": "@jupyter-widgets/controls",
            "_view_module_version": "1.5.0",
            "_view_name": "LabelView",
            "description": "",
            "description_tooltip": null,
            "layout": "IPY_MODEL_80b91e5b6e3c43c18fab829e67b267e1",
            "placeholder": "​",
            "style": "IPY_MODEL_2fcce236d63d4eb2ac06c75ca3647195",
            "value": "Prediction: 7"
          }
        },
        "80b91e5b6e3c43c18fab829e67b267e1": {
          "model_module": "@jupyter-widgets/base",
          "model_name": "LayoutModel",
          "model_module_version": "1.2.0",
          "state": {
            "_model_module": "@jupyter-widgets/base",
            "_model_module_version": "1.2.0",
            "_model_name": "LayoutModel",
            "_view_count": null,
            "_view_module": "@jupyter-widgets/base",
            "_view_module_version": "1.2.0",
            "_view_name": "LayoutView",
            "align_content": null,
            "align_items": null,
            "align_self": null,
            "border": null,
            "bottom": null,
            "display": null,
            "flex": null,
            "flex_flow": null,
            "grid_area": null,
            "grid_auto_columns": null,
            "grid_auto_flow": null,
            "grid_auto_rows": null,
            "grid_column": null,
            "grid_gap": null,
            "grid_row": null,
            "grid_template_areas": null,
            "grid_template_columns": null,
            "grid_template_rows": null,
            "height": null,
            "justify_content": null,
            "justify_items": null,
            "left": null,
            "margin": null,
            "max_height": null,
            "max_width": null,
            "min_height": null,
            "min_width": null,
            "object_fit": null,
            "object_position": null,
            "order": null,
            "overflow": null,
            "overflow_x": null,
            "overflow_y": null,
            "padding": null,
            "right": null,
            "top": null,
            "visibility": null,
            "width": null
          }
        },
        "2fcce236d63d4eb2ac06c75ca3647195": {
          "model_module": "@jupyter-widgets/controls",
          "model_name": "DescriptionStyleModel",
          "model_module_version": "1.5.0",
          "state": {
            "_model_module": "@jupyter-widgets/controls",
            "_model_module_version": "1.5.0",
            "_model_name": "DescriptionStyleModel",
            "_view_count": null,
            "_view_module": "@jupyter-widgets/base",
            "_view_module_version": "1.2.0",
            "_view_name": "StyleView",
            "description_width": ""
          }
        },
        "58b3f463668e4ff6ac2622093e2ca928": {
          "model_module": "@jupyter-widgets/controls",
          "model_name": "ButtonModel",
          "model_module_version": "1.5.0",
          "state": {
            "_dom_classes": [],
            "_model_module": "@jupyter-widgets/controls",
            "_model_module_version": "1.5.0",
            "_model_name": "ButtonModel",
            "_view_count": null,
            "_view_module": "@jupyter-widgets/controls",
            "_view_module_version": "1.5.0",
            "_view_name": "ButtonView",
            "button_style": "",
            "description": "Norm Prediction",
            "disabled": false,
            "icon": "",
            "layout": "IPY_MODEL_b6136b9b64c84ca79d21bcc77fb71018",
            "style": "IPY_MODEL_63cf4c914de24f05bce990738d1d2c96",
            "tooltip": ""
          }
        },
        "b6136b9b64c84ca79d21bcc77fb71018": {
          "model_module": "@jupyter-widgets/base",
          "model_name": "LayoutModel",
          "model_module_version": "1.2.0",
          "state": {
            "_model_module": "@jupyter-widgets/base",
            "_model_module_version": "1.2.0",
            "_model_name": "LayoutModel",
            "_view_count": null,
            "_view_module": "@jupyter-widgets/base",
            "_view_module_version": "1.2.0",
            "_view_name": "LayoutView",
            "align_content": null,
            "align_items": null,
            "align_self": null,
            "border": null,
            "bottom": null,
            "display": null,
            "flex": null,
            "flex_flow": null,
            "grid_area": null,
            "grid_auto_columns": null,
            "grid_auto_flow": null,
            "grid_auto_rows": null,
            "grid_column": null,
            "grid_gap": null,
            "grid_row": null,
            "grid_template_areas": null,
            "grid_template_columns": null,
            "grid_template_rows": null,
            "height": null,
            "justify_content": null,
            "justify_items": null,
            "left": null,
            "margin": null,
            "max_height": null,
            "max_width": null,
            "min_height": null,
            "min_width": null,
            "object_fit": null,
            "object_position": null,
            "order": null,
            "overflow": null,
            "overflow_x": null,
            "overflow_y": null,
            "padding": null,
            "right": null,
            "top": null,
            "visibility": null,
            "width": null
          }
        },
        "63cf4c914de24f05bce990738d1d2c96": {
          "model_module": "@jupyter-widgets/controls",
          "model_name": "ButtonStyleModel",
          "model_module_version": "1.5.0",
          "state": {
            "_model_module": "@jupyter-widgets/controls",
            "_model_module_version": "1.5.0",
            "_model_name": "ButtonStyleModel",
            "_view_count": null,
            "_view_module": "@jupyter-widgets/base",
            "_view_module_version": "1.2.0",
            "_view_name": "StyleView",
            "button_color": null,
            "font_weight": ""
          }
        },
        "b736483efc214ec28ca1a4748e42b1c0": {
          "model_module": "@jupyter-widgets/controls",
          "model_name": "LabelModel",
          "model_module_version": "1.5.0",
          "state": {
            "_dom_classes": [],
            "_model_module": "@jupyter-widgets/controls",
            "_model_module_version": "1.5.0",
            "_model_name": "LabelModel",
            "_view_count": null,
            "_view_module": "@jupyter-widgets/controls",
            "_view_module_version": "1.5.0",
            "_view_name": "LabelView",
            "description": "",
            "description_tooltip": null,
            "layout": "IPY_MODEL_b6749fa3bc44402ea9edfe39529d7d80",
            "placeholder": "​",
            "style": "IPY_MODEL_f91de7f7db694684adddef883400c624",
            "value": "Prediction: 7"
          }
        },
        "b6749fa3bc44402ea9edfe39529d7d80": {
          "model_module": "@jupyter-widgets/base",
          "model_name": "LayoutModel",
          "model_module_version": "1.2.0",
          "state": {
            "_model_module": "@jupyter-widgets/base",
            "_model_module_version": "1.2.0",
            "_model_name": "LayoutModel",
            "_view_count": null,
            "_view_module": "@jupyter-widgets/base",
            "_view_module_version": "1.2.0",
            "_view_name": "LayoutView",
            "align_content": null,
            "align_items": null,
            "align_self": null,
            "border": null,
            "bottom": null,
            "display": null,
            "flex": null,
            "flex_flow": null,
            "grid_area": null,
            "grid_auto_columns": null,
            "grid_auto_flow": null,
            "grid_auto_rows": null,
            "grid_column": null,
            "grid_gap": null,
            "grid_row": null,
            "grid_template_areas": null,
            "grid_template_columns": null,
            "grid_template_rows": null,
            "height": null,
            "justify_content": null,
            "justify_items": null,
            "left": null,
            "margin": null,
            "max_height": null,
            "max_width": null,
            "min_height": null,
            "min_width": null,
            "object_fit": null,
            "object_position": null,
            "order": null,
            "overflow": null,
            "overflow_x": null,
            "overflow_y": null,
            "padding": null,
            "right": null,
            "top": null,
            "visibility": null,
            "width": null
          }
        },
        "f91de7f7db694684adddef883400c624": {
          "model_module": "@jupyter-widgets/controls",
          "model_name": "DescriptionStyleModel",
          "model_module_version": "1.5.0",
          "state": {
            "_model_module": "@jupyter-widgets/controls",
            "_model_module_version": "1.5.0",
            "_model_name": "DescriptionStyleModel",
            "_view_count": null,
            "_view_module": "@jupyter-widgets/base",
            "_view_module_version": "1.2.0",
            "_view_name": "StyleView",
            "description_width": ""
          }
        }
      }
    }
  },
  "cells": [
    {
      "cell_type": "markdown",
      "source": [
        "# Goal: convolutionl network with width normalization in preprocessing on MNIST database\n",
        "\n",
        "convolutional networks perform feature extraction\n",
        "\n",
        "general steps of convolutional networks:\n",
        "1. filter with a convolution layer\n",
        "2. detect with ReLU activation\n",
        "3. condense with a maximum pooling layer\n",
        "\n",
        "The sliding window:\n",
        "\n",
        "a. The convolution and pooling operations share a common feature: they are both performed over a sliding window. With convolution, this \"window\" is given by the dimensions of the kernel, the parameter kernel_size. With pooling, it is the pooling window, given by pool_size.\n",
        "\n",
        "b. There are two additional parameters affecting both convolution and pooling layers -- these are the strides of the window and whether to use padding at the image edges. The strides parameter says how far the window should move at each step, and the padding parameter describes how we handle the pixels at the edges of the input.\n",
        "\n",
        "c. Because we want high-quality features to use for classification, convolutional layers will most often have strides=(1, 1). Increasing the stride means that we miss out on potentially valuble information in our summary. Maximum pooling layers, however, will almost always have stride values greater than 1, like (2, 2) or (3, 3), but not larger than the window itself.\n",
        "\n",
        "## Procedure\n",
        "\n",
        "Step 1: Load the data\n",
        "\n",
        "Step 2: Define Model\n",
        "\n",
        "Step 3: Train\n",
        "\n",
        "\n",
        "-> Boost performance by creating extra training data"
      ],
      "metadata": {
        "id": "bqQ43GDXLVLz"
      }
    },
    {
      "cell_type": "code",
      "source": [
        "#path = \"/kaggle/input/digit-recognizer/train.csv\"\n",
        "#mnist = pd.read_csv(path)"
      ],
      "metadata": {
        "id": "zMtyZlexKJoA"
      },
      "execution_count": null,
      "outputs": []
    },
    {
      "cell_type": "code",
      "source": [
        "import tensorflow as tf\n",
        "from tensorflow.keras.datasets import cifar10, mnist\n",
        "from tensorflow.keras import Sequential\n",
        "from tensorflow.keras.layers import Input, Dense, Dropout, Flatten, Conv2D, MaxPool2D\n",
        "import numpy as np\n",
        "import scipy\n",
        "import matplotlib\n",
        "import matplotlib.pyplot as plt\n",
        "\n",
        "np.random.seed(0)\n",
        "tf.random.set_seed(0)"
      ],
      "metadata": {
        "id": "ynsStCttA2JE"
      },
      "execution_count": null,
      "outputs": []
    },
    {
      "cell_type": "code",
      "source": [
        "(x_train, y_train), (x_test, y_test) = mnist.load_data()"
      ],
      "metadata": {
        "id": "D53Q0NUoA5V7",
        "colab": {
          "base_uri": "https://localhost:8080/"
        },
        "outputId": "2742c522-edae-4ef2-af2c-9636081f91db"
      },
      "execution_count": null,
      "outputs": [
        {
          "output_type": "stream",
          "name": "stdout",
          "text": [
            "Downloading data from https://storage.googleapis.com/tensorflow/tf-keras-datasets/mnist.npz\n",
            "11490434/11490434 [==============================] - 0s 0us/step\n"
          ]
        }
      ]
    },
    {
      "cell_type": "code",
      "source": [
        "s1 = x_train.shape\n",
        "s2 = x_test.shape\n",
        "print(f\"The MNIST data was loaded with {s1[0]} training samples and {s2[0]} testing samples.\")\n",
        "print(f\"Each sample is a {s1[1]} x {s1[2]} pixel image.\")"
      ],
      "metadata": {
        "colab": {
          "base_uri": "https://localhost:8080/"
        },
        "id": "0uSQC-uaA-PS",
        "outputId": "8907ff93-2507-4573-da38-fe5051357189"
      },
      "execution_count": null,
      "outputs": [
        {
          "output_type": "stream",
          "name": "stdout",
          "text": [
            "The MNIST data was loaded with 60000 training samples and 10000 testing samples.\n",
            "Each sample is a 28 x 28 pixel image.\n"
          ]
        }
      ]
    },
    {
      "cell_type": "code",
      "source": [
        "import tensorflow as tf\n",
        "from tensorflow import keras\n",
        "from tensorflow.keras import layers\n",
        "from sklearn.metrics import classification_report, confusion_matrix\n",
        "import seaborn as sns\n",
        "import matplotlib.pyplot as plt\n",
        "import numpy as np\n",
        "\n",
        "# Define width normalization function using Lambda layer\n",
        "def width_normalization(x):\n",
        "    mean = tf.math.reduce_mean(x, axis=-1, keepdims=True)\n",
        "    std = tf.math.reduce_std(x, axis=-1, keepdims=True)\n",
        "    return (x - mean) / std\n",
        "\n",
        "# Load MNIST dataset\n",
        "(x_train, y_train), (x_test, y_test) = keras.datasets.mnist.load_data()\n",
        "\n",
        "# Normalize pixel values to range [0, 1]\n",
        "x_train = x_train.astype(\"float32\") / 255.0\n",
        "x_test = x_test.astype(\"float32\") / 255.0\n",
        "\n",
        "# Add channel dimension to images\n",
        "x_train = np.expand_dims(x_train, -1)\n",
        "x_test = np.expand_dims(x_test, -1)\n",
        "\n",
        "# Define models\n",
        "def get_model(use_width_norm=False):\n",
        "    inputs = keras.Input(shape=(28, 28, 1))\n",
        "    x = layers.Conv2D(32, (3, 3), activation=\"relu\")(inputs)\n",
        "    x = layers.MaxPooling2D(pool_size=(2, 2))(x)\n",
        "    x = layers.Flatten()(x)\n",
        "\n",
        "    if use_width_norm:\n",
        "        x = layers.Dense(128, activation=\"relu\")(x)\n",
        "        x = layers.BatchNormalization()(x)\n",
        "        x = layers.Lambda(width_normalization)(x)\n",
        "        outputs = layers.Dense(10, activation=\"softmax\")(x)\n",
        "    else:\n",
        "        x = layers.Dense(128, activation=\"relu\")(x)\n",
        "        outputs = layers.Dense(10, activation=\"softmax\")(x)\n",
        "\n",
        "    return keras.Model(inputs, outputs)\n",
        "\n",
        "# Create models and compile them\n",
        "model_no_norm = get_model(use_width_norm=False)\n",
        "model_norm = get_model(use_width_norm=True)\n",
        "\n",
        "opt = keras.optimizers.legacy.Adam(learning_rate=0.001)\n",
        "\n",
        "model_no_norm.compile(loss=\"sparse_categorical_crossentropy\", optimizer=opt, metrics=[\"accuracy\"])\n",
        "model_norm.compile(loss=\"sparse_categorical_crossentropy\", optimizer=opt, metrics=[\"accuracy\"])\n",
        "\n",
        "# Train models\n",
        "history_no_norm = model_no_norm.fit(x_train, y_train, epochs=20, validation_split=0.2)\n",
        "history_norm = model_norm.fit(x_train, y_train, epochs=20, validation_split=0.2)\n",
        "\n",
        "# Evaluate models on test set\n",
        "test_loss_no_norm, test_acc_no_norm = model_no_norm.evaluate(x_test, y_test, verbose=0)\n",
        "test_loss_norm, test_acc_norm = model_norm.evaluate(x_test, y_test, verbose=0)\n",
        "\n",
        "print(\"Model without width normalization\")\n",
        "print(f\"Test accuracy: {test_acc_no_norm}\")\n",
        "print(classification_report(y_test, np.argmax(model_no_norm.predict(x_test), axis=1)))\n",
        "cm_no_norm = confusion_matrix(y_test, np.argmax(model_no_norm.predict(x_test), axis=1))\n",
        "sns.heatmap(cm_no_norm, annot=True, cmap=\"Blues\")\n",
        "plt.title(\"Confusion matrix - model without width normalization\")\n",
        "plt.show()\n",
        "\n",
        "print(\"Model with width normalization\")\n",
        "print(f\"Test accuracy: {test_acc_norm}\")\n",
        "print(classification_report(y_test, np.argmax(model_norm.predict(x_test), axis=1)))\n",
        "cm_norm = confusion_matrix(y_test, np.argmax(model_norm.predict(x_test), axis=1))\n",
        "sns.heatmap(cm_norm, annot=True, cmap=\"Blues\")\n",
        "plt.title(\"Confusion matrix - model with width normalization\")\n",
        "plt.show()\n",
        "\n",
        "# Plot accuracy and loss curves\n",
        "plt.plot(history_no_norm.history[\"accuracy\"], label=\"Training accuracy - no norm\")\n",
        "\n"
      ],
      "metadata": {
        "colab": {
          "base_uri": "https://localhost:8080/",
          "height": 1000
        },
        "id": "01jdnSacFsFq",
        "outputId": "0632a6c3-fb2f-4052-bf11-def97f26c49b"
      },
      "execution_count": null,
      "outputs": [
        {
          "output_type": "stream",
          "name": "stdout",
          "text": [
            "Epoch 1/20\n",
            "1500/1500 [==============================] - 41s 27ms/step - loss: 0.1750 - accuracy: 0.9462 - val_loss: 0.0911 - val_accuracy: 0.9728\n",
            "Epoch 2/20\n",
            "1500/1500 [==============================] - 40s 27ms/step - loss: 0.0589 - accuracy: 0.9821 - val_loss: 0.0682 - val_accuracy: 0.9808\n",
            "Epoch 3/20\n",
            "1500/1500 [==============================] - 38s 25ms/step - loss: 0.0378 - accuracy: 0.9884 - val_loss: 0.0564 - val_accuracy: 0.9832\n",
            "Epoch 4/20\n",
            "1500/1500 [==============================] - 37s 25ms/step - loss: 0.0246 - accuracy: 0.9919 - val_loss: 0.0562 - val_accuracy: 0.9835\n",
            "Epoch 5/20\n",
            "1500/1500 [==============================] - 38s 26ms/step - loss: 0.0180 - accuracy: 0.9939 - val_loss: 0.0558 - val_accuracy: 0.9846\n",
            "Epoch 6/20\n",
            "1500/1500 [==============================] - 39s 26ms/step - loss: 0.0112 - accuracy: 0.9966 - val_loss: 0.0525 - val_accuracy: 0.9859\n",
            "Epoch 7/20\n",
            "1500/1500 [==============================] - 38s 26ms/step - loss: 0.0086 - accuracy: 0.9972 - val_loss: 0.0653 - val_accuracy: 0.9848\n",
            "Epoch 8/20\n",
            "1500/1500 [==============================] - 39s 26ms/step - loss: 0.0064 - accuracy: 0.9980 - val_loss: 0.0612 - val_accuracy: 0.9854\n",
            "Epoch 9/20\n",
            "1500/1500 [==============================] - 38s 25ms/step - loss: 0.0059 - accuracy: 0.9983 - val_loss: 0.0862 - val_accuracy: 0.9832\n",
            "Epoch 10/20\n",
            "1500/1500 [==============================] - 38s 25ms/step - loss: 0.0055 - accuracy: 0.9982 - val_loss: 0.0717 - val_accuracy: 0.9862\n",
            "Epoch 11/20\n",
            "1500/1500 [==============================] - 37s 25ms/step - loss: 0.0041 - accuracy: 0.9986 - val_loss: 0.0911 - val_accuracy: 0.9837\n",
            "Epoch 12/20\n",
            "1500/1500 [==============================] - 39s 26ms/step - loss: 0.0043 - accuracy: 0.9986 - val_loss: 0.0819 - val_accuracy: 0.9850\n",
            "Epoch 13/20\n",
            "1500/1500 [==============================] - 41s 28ms/step - loss: 0.0019 - accuracy: 0.9995 - val_loss: 0.0747 - val_accuracy: 0.9873\n",
            "Epoch 14/20\n",
            "1500/1500 [==============================] - 39s 26ms/step - loss: 0.0048 - accuracy: 0.9982 - val_loss: 0.0763 - val_accuracy: 0.9865\n",
            "Epoch 15/20\n",
            "1500/1500 [==============================] - 39s 26ms/step - loss: 0.0019 - accuracy: 0.9996 - val_loss: 0.0855 - val_accuracy: 0.9846\n",
            "Epoch 16/20\n",
            "1500/1500 [==============================] - 39s 26ms/step - loss: 0.0037 - accuracy: 0.9989 - val_loss: 0.0848 - val_accuracy: 0.9847\n",
            "Epoch 17/20\n",
            "1500/1500 [==============================] - 38s 25ms/step - loss: 0.0028 - accuracy: 0.9990 - val_loss: 0.0913 - val_accuracy: 0.9852\n",
            "Epoch 18/20\n",
            "1500/1500 [==============================] - 38s 25ms/step - loss: 0.0026 - accuracy: 0.9991 - val_loss: 0.0897 - val_accuracy: 0.9852\n",
            "Epoch 19/20\n",
            "1500/1500 [==============================] - 37s 25ms/step - loss: 0.0012 - accuracy: 0.9997 - val_loss: 0.0823 - val_accuracy: 0.9858\n",
            "Epoch 20/20\n",
            "1500/1500 [==============================] - 39s 26ms/step - loss: 7.3484e-04 - accuracy: 0.9998 - val_loss: 0.0953 - val_accuracy: 0.9848\n",
            "Epoch 1/20\n",
            "1500/1500 [==============================] - 40s 26ms/step - loss: 0.1261 - accuracy: 0.9613 - val_loss: 0.0708 - val_accuracy: 0.9774\n",
            "Epoch 2/20\n",
            "1500/1500 [==============================] - 39s 26ms/step - loss: 0.0504 - accuracy: 0.9837 - val_loss: 0.0615 - val_accuracy: 0.9822\n",
            "Epoch 3/20\n",
            "1500/1500 [==============================] - 40s 27ms/step - loss: 0.0342 - accuracy: 0.9894 - val_loss: 0.0542 - val_accuracy: 0.9833\n",
            "Epoch 4/20\n",
            "1500/1500 [==============================] - 39s 26ms/step - loss: 0.0238 - accuracy: 0.9925 - val_loss: 0.0683 - val_accuracy: 0.9808\n",
            "Epoch 5/20\n",
            "1500/1500 [==============================] - 41s 27ms/step - loss: 0.0182 - accuracy: 0.9941 - val_loss: 0.0541 - val_accuracy: 0.9853\n",
            "Epoch 6/20\n",
            "1500/1500 [==============================] - 41s 27ms/step - loss: 0.0130 - accuracy: 0.9957 - val_loss: 0.0543 - val_accuracy: 0.9847\n",
            "Epoch 7/20\n",
            "1500/1500 [==============================] - 39s 26ms/step - loss: 0.0108 - accuracy: 0.9965 - val_loss: 0.0636 - val_accuracy: 0.9830\n",
            "Epoch 8/20\n",
            "1500/1500 [==============================] - 39s 26ms/step - loss: 0.0090 - accuracy: 0.9970 - val_loss: 0.0539 - val_accuracy: 0.9861\n",
            "Epoch 9/20\n",
            "1500/1500 [==============================] - 38s 25ms/step - loss: 0.0067 - accuracy: 0.9976 - val_loss: 0.0585 - val_accuracy: 0.9858\n",
            "Epoch 10/20\n",
            "1500/1500 [==============================] - 38s 25ms/step - loss: 0.0068 - accuracy: 0.9980 - val_loss: 0.0616 - val_accuracy: 0.9857\n",
            "Epoch 11/20\n",
            "1500/1500 [==============================] - 39s 26ms/step - loss: 0.0059 - accuracy: 0.9981 - val_loss: 0.0633 - val_accuracy: 0.9859\n",
            "Epoch 12/20\n",
            "1500/1500 [==============================] - 39s 26ms/step - loss: 0.0053 - accuracy: 0.9983 - val_loss: 0.0631 - val_accuracy: 0.9847\n",
            "Epoch 13/20\n",
            "1500/1500 [==============================] - 39s 26ms/step - loss: 0.0050 - accuracy: 0.9984 - val_loss: 0.0614 - val_accuracy: 0.9865\n",
            "Epoch 14/20\n",
            "1500/1500 [==============================] - 39s 26ms/step - loss: 0.0048 - accuracy: 0.9985 - val_loss: 0.0538 - val_accuracy: 0.9868\n",
            "Epoch 15/20\n",
            "1500/1500 [==============================] - 38s 25ms/step - loss: 0.0042 - accuracy: 0.9987 - val_loss: 0.0598 - val_accuracy: 0.9864\n",
            "Epoch 16/20\n",
            "1500/1500 [==============================] - 41s 27ms/step - loss: 0.0041 - accuracy: 0.9986 - val_loss: 0.0632 - val_accuracy: 0.9867\n",
            "Epoch 17/20\n",
            "1500/1500 [==============================] - 42s 28ms/step - loss: 0.0036 - accuracy: 0.9987 - val_loss: 0.0602 - val_accuracy: 0.9874\n",
            "Epoch 18/20\n",
            "1500/1500 [==============================] - 39s 26ms/step - loss: 0.0041 - accuracy: 0.9986 - val_loss: 0.0751 - val_accuracy: 0.9837\n",
            "Epoch 19/20\n",
            "1500/1500 [==============================] - 39s 26ms/step - loss: 0.0043 - accuracy: 0.9985 - val_loss: 0.0619 - val_accuracy: 0.9865\n",
            "Epoch 20/20\n",
            "1500/1500 [==============================] - 38s 26ms/step - loss: 0.0031 - accuracy: 0.9992 - val_loss: 0.0616 - val_accuracy: 0.9868\n",
            "Model without width normalization\n",
            "Test accuracy: 0.9857000112533569\n",
            "313/313 [==============================] - 3s 8ms/step\n",
            "              precision    recall  f1-score   support\n",
            "\n",
            "           0       0.98      0.99      0.99       980\n",
            "           1       1.00      0.99      0.99      1135\n",
            "           2       0.99      0.99      0.99      1032\n",
            "           3       0.99      0.98      0.98      1010\n",
            "           4       0.99      0.98      0.99       982\n",
            "           5       0.98      0.98      0.98       892\n",
            "           6       0.99      0.98      0.99       958\n",
            "           7       0.98      0.99      0.98      1028\n",
            "           8       0.98      0.99      0.98       974\n",
            "           9       0.98      0.98      0.98      1009\n",
            "\n",
            "    accuracy                           0.99     10000\n",
            "   macro avg       0.99      0.99      0.99     10000\n",
            "weighted avg       0.99      0.99      0.99     10000\n",
            "\n",
            "313/313 [==============================] - 3s 9ms/step\n"
          ]
        },
        {
          "output_type": "display_data",
          "data": {
            "text/plain": [
              "<Figure size 640x480 with 2 Axes>"
            ],
            "image/png": "[encoded data removed]"
          },
          "metadata": {}
        },
        {
          "output_type": "stream",
          "name": "stdout",
          "text": [
            "Model with width normalization\n",
            "Test accuracy: 0.9861000180244446\n",
            "313/313 [==============================] - 3s 8ms/step\n",
            "              precision    recall  f1-score   support\n",
            "\n",
            "           0       0.99      0.99      0.99       980\n",
            "           1       0.99      0.99      0.99      1135\n",
            "           2       0.97      0.99      0.98      1032\n",
            "           3       0.99      0.99      0.99      1010\n",
            "           4       0.99      0.99      0.99       982\n",
            "           5       0.98      0.98      0.98       892\n",
            "           6       0.99      0.98      0.99       958\n",
            "           7       0.99      0.97      0.98      1028\n",
            "           8       0.98      0.99      0.99       974\n",
            "           9       0.98      0.98      0.98      1009\n",
            "\n",
            "    accuracy                           0.99     10000\n",
            "   macro avg       0.99      0.99      0.99     10000\n",
            "weighted avg       0.99      0.99      0.99     10000\n",
            "\n",
            "313/313 [==============================] - 3s 8ms/step\n"
          ]
        },
        {
          "output_type": "display_data",
          "data": {
            "text/plain": [
              "<Figure size 640x480 with 2 Axes>"
            ],
            "image/png": "[encoded data removed]"
          },
          "metadata": {}
        },
        {
          "output_type": "execute_result",
          "data": {
            "text/plain": [
              "[<matplotlib.lines.Line2D at 0x7f9de66296f0>]"
            ]
          },
          "metadata": {},
          "execution_count": 15
        },
        {
          "output_type": "display_data",
          "data": {
            "text/plain": [
              "<Figure size 640x480 with 1 Axes>"
            ],
            "image/png": "[encoded data removed]"
          },
          "metadata": {}
        }
      ]
    },
    {
      "cell_type": "code",
      "source": [
        "import tensorflow as tf\n",
        "from tensorflow import keras\n",
        "from tensorflow.keras import layers\n",
        "from sklearn.metrics import classification_report, confusion_matrix\n",
        "import seaborn as sns\n",
        "import matplotlib.pyplot as plt\n",
        "import numpy as np\n",
        "import ipywidgets as widgets\n",
        "from IPython.display import display\n",
        "\n",
        "# Define width normalization function using Lambda layer\n",
        "def width_normalization(x):\n",
        "    mean = tf.math.reduce_mean(x, axis=-1, keepdims=True)\n",
        "    std = tf.math.reduce_std(x, axis=-1, keepdims=True)\n",
        "    return (x - mean) / std\n",
        "\n",
        "# Load MNIST dataset\n",
        "(x_train, y_train), (x_test, y_test) = keras.datasets.mnist.load_data()\n",
        "\n",
        "# Normalize pixel values to range [0, 1]\n",
        "x_train = x_train.astype(\"float32\") / 255.0\n",
        "x_test = x_test.astype(\"float32\") / 255.0\n",
        "\n",
        "# Add channel dimension to images\n",
        "x_train = np.expand_dims(x_train, -1)\n",
        "x_test = np.expand_dims(x_test, -1)\n",
        "\n",
        "# Define models\n",
        "def get_model(use_width_norm=False):\n",
        "    inputs = keras.Input(shape=(28, 28, 1))\n",
        "    x = layers.Conv2D(32, (3, 3), activation=\"relu\")(inputs)\n",
        "    x = layers.MaxPooling2D(pool_size=(2, 2))(x)\n",
        "    x = layers.Flatten()(x)\n",
        "\n",
        "    if use_width_norm:\n",
        "        x = layers.Dense(128, activation=\"relu\")(x)\n",
        "        x = layers.BatchNormalization()(x)\n",
        "        x = layers.Lambda(width_normalization)(x)\n",
        "        outputs = layers.Dense(10, activation=\"softmax\")(x)\n",
        "    else:\n",
        "        x = layers.Dense(128, activation=\"relu\")(x)\n",
        "        outputs = layers.Dense(10, activation=\"softmax\")(x)\n",
        "\n",
        "    return keras.Model(inputs, outputs)\n",
        "\n",
        "# Create models and compile them\n",
        "model_no_norm = get_model(use_width_norm=False)\n",
        "model_norm = get_model(use_width_norm=True)\n",
        "\n",
        "opt = keras.optimizers.legacy.Adam(learning_rate=0.001)\n",
        "\n",
        "model_no_norm.compile(loss=\"sparse_categorical_crossentropy\", optimizer=opt, metrics=[\"accuracy\"])\n",
        "model_norm.compile(loss=\"sparse_categorical_crossentropy\", optimizer=opt, metrics=[\"accuracy\"])\n",
        "\n",
        "# Train models\n",
        "history_no_norm = model_no_norm.fit(x_train, y_train, epochs=10, validation_split=0.2)\n",
        "history_norm = model_norm.fit(x_train, y_train, epochs=10, validation_split=0.2)\n",
        "\n",
        "# Evaluate models on test set\n",
        "test_loss_no_norm, test_acc_no_norm = model_no_norm.evaluate(x_test, y_test, verbose=0)\n",
        "test_loss_norm, test_acc_norm = model_norm.evaluate(x_test, y_test, verbose=0)\n",
        "\n",
        "from PIL import Image\n",
        "\n",
        "# Convert input image array to bytes\n",
        "input_image_bytes = x_test[0].tobytes()\n",
        "\n",
        "# Define GUI elements\n",
        "input_image = widgets.Image(value=input_image_bytes)\n",
        "no_norm_output = widgets.Label(value=f\"Prediction: None\")\n",
        "norm_output = widgets.Label(value=f\"Prediction: None\")\n",
        "button_no_norm = widgets.Button(description=\"No Norm Prediction\")\n",
        "button_norm = widgets.Button(description=\"Norm Prediction\")\n",
        "\n",
        "# Define prediction\n"
      ],
      "metadata": {
        "colab": {
          "base_uri": "https://localhost:8080/",
          "height": 717
        },
        "id": "2A0DlrXE0v9z",
        "outputId": "6d18463f-8818-4bc8-d1fc-c7981dbb5a95"
      },
      "execution_count": null,
      "outputs": [
        {
          "output_type": "stream",
          "name": "stdout",
          "text": [
            "Epoch 1/10\n",
            "1500/1500 [==============================] - 44s 28ms/step - loss: 0.1616 - accuracy: 0.9515 - val_loss: 0.0865 - val_accuracy: 0.9729\n",
            "Epoch 2/10\n",
            "1500/1500 [==============================] - 39s 26ms/step - loss: 0.0551 - accuracy: 0.9833 - val_loss: 0.0606 - val_accuracy: 0.9833\n",
            "Epoch 3/10\n",
            "1500/1500 [==============================] - 41s 27ms/step - loss: 0.0336 - accuracy: 0.9898 - val_loss: 0.0634 - val_accuracy: 0.9811\n",
            "Epoch 4/10\n",
            "1500/1500 [==============================] - 38s 25ms/step - loss: 0.0232 - accuracy: 0.9921 - val_loss: 0.0532 - val_accuracy: 0.9851\n",
            "Epoch 5/10\n",
            "1500/1500 [==============================] - 38s 26ms/step - loss: 0.0145 - accuracy: 0.9958 - val_loss: 0.0613 - val_accuracy: 0.9831\n",
            "Epoch 6/10\n",
            "1500/1500 [==============================] - 38s 26ms/step - loss: 0.0107 - accuracy: 0.9965 - val_loss: 0.0569 - val_accuracy: 0.9847\n",
            "Epoch 7/10\n",
            "1500/1500 [==============================] - 40s 26ms/step - loss: 0.0078 - accuracy: 0.9973 - val_loss: 0.0638 - val_accuracy: 0.9843\n",
            "Epoch 8/10\n",
            "1500/1500 [==============================] - 40s 26ms/step - loss: 0.0074 - accuracy: 0.9973 - val_loss: 0.0729 - val_accuracy: 0.9837\n",
            "Epoch 9/10\n",
            "1500/1500 [==============================] - 38s 25ms/step - loss: 0.0048 - accuracy: 0.9984 - val_loss: 0.0731 - val_accuracy: 0.9862\n",
            "Epoch 10/10\n",
            "1500/1500 [==============================] - 37s 25ms/step - loss: 0.0043 - accuracy: 0.9985 - val_loss: 0.0712 - val_accuracy: 0.9871\n",
            "Epoch 1/10\n",
            "1500/1500 [==============================] - 41s 26ms/step - loss: 0.1254 - accuracy: 0.9623 - val_loss: 0.0702 - val_accuracy: 0.9787\n",
            "Epoch 2/10\n",
            "1500/1500 [==============================] - 39s 26ms/step - loss: 0.0492 - accuracy: 0.9846 - val_loss: 0.0587 - val_accuracy: 0.9829\n",
            "Epoch 3/10\n",
            "1500/1500 [==============================] - 39s 26ms/step - loss: 0.0331 - accuracy: 0.9899 - val_loss: 0.0629 - val_accuracy: 0.9818\n",
            "Epoch 4/10\n",
            "1500/1500 [==============================] - 39s 26ms/step - loss: 0.0230 - accuracy: 0.9928 - val_loss: 0.0548 - val_accuracy: 0.9843\n",
            "Epoch 5/10\n",
            "1500/1500 [==============================] - 39s 26ms/step - loss: 0.0173 - accuracy: 0.9944 - val_loss: 0.0580 - val_accuracy: 0.9836\n",
            "Epoch 6/10\n",
            "1500/1500 [==============================] - 41s 27ms/step - loss: 0.0125 - accuracy: 0.9960 - val_loss: 0.0646 - val_accuracy: 0.9836\n",
            "Epoch 7/10\n",
            "1500/1500 [==============================] - 39s 26ms/step - loss: 0.0118 - accuracy: 0.9962 - val_loss: 0.0698 - val_accuracy: 0.9824\n",
            "Epoch 8/10\n",
            "1500/1500 [==============================] - 41s 28ms/step - loss: 0.0093 - accuracy: 0.9971 - val_loss: 0.0586 - val_accuracy: 0.9849\n",
            "Epoch 9/10\n",
            "1500/1500 [==============================] - 39s 26ms/step - loss: 0.0069 - accuracy: 0.9979 - val_loss: 0.0617 - val_accuracy: 0.9851\n",
            "Epoch 10/10\n",
            "1500/1500 [==============================] - 41s 27ms/step - loss: 0.0066 - accuracy: 0.9979 - val_loss: 0.0559 - val_accuracy: 0.9867\n"
          ]
        }
      ]
    },
    {
      "cell_type": "code",
      "source": [],
      "metadata": {
        "id": "nU_ExLT5K-si"
      },
      "execution_count": null,
      "outputs": []
    },
    {
      "cell_type": "code",
      "source": [
        "from IPython.display import display\n",
        "import io\n",
        "\n",
        "# Get predictions for a sample input image\n",
        "sample_image = x_test[0:1]  # select the first image from the test set\n",
        "no_norm_prediction = np.argmax(model_no_norm.predict(sample_image), axis=-1)[0]\n",
        "norm_prediction = np.argmax(model_norm.predict(sample_image), axis=-1)[0]\n",
        "\n",
        "# Convert input image array to bytes\n",
        "input_image_pil = Image.fromarray((255 * x_test[0].reshape(28, 28)).astype(np.uint8))\n",
        "input_image_bytes = io.BytesIO()\n",
        "input_image_pil.save(input_image_bytes, format='png')\n",
        "input_image_bytes = input_image_bytes.getvalue()\n",
        "\n",
        "# Define GUI elements\n",
        "input_image = widgets.Image(value=input_image_bytes)\n",
        "no_norm_output = widgets.Label(value=f\"Prediction: {no_norm_prediction}\")\n",
        "norm_output = widgets.Label(value=f\"Prediction: {norm_prediction}\")\n",
        "button_no_norm = widgets.Button(description=\"No Norm Prediction\")\n",
        "button_norm = widgets.Button(description=\"Norm Prediction\")\n",
        "\n",
        "# Define prediction functions for the buttons\n",
        "def predict_no_norm(button):\n",
        "    prediction = np.argmax(model_no_norm.predict(sample_image), axis=-1)[0]\n",
        "    no_norm_output.value = f\"Prediction: {prediction}\"\n",
        "\n",
        "def predict_norm(button):\n",
        "    prediction = np.argmax(model_norm.predict(sample_image), axis=-1)[0]\n",
        "    norm_output.value = f\"Prediction: {prediction}\"\n",
        "\n",
        "# Attach the prediction functions to the buttons\n",
        "button_no_norm.on_click(predict_no_norm)\n",
        "button_norm.on_click(predict_norm)\n",
        "\n",
        "# Display the GUI elements\n",
        "display(input_image)\n",
        "display(button_no_norm)\n",
        "display(no_norm_output)\n",
        "display(button_norm)\n",
        "display(norm_output)\n"
      ],
      "metadata": {
        "colab": {
          "base_uri": "https://localhost:8080/",
          "height": 215,
          "referenced_widgets": [
            "88754cff593f49abb8f9fa4fcbc6a404",
            "5aa9faf660f64e74839cdefae2c8006b",
            "33ee9d85a33245b18721536eb11a0eb7",
            "211b9beb6b4d4afda02e92e32af0170b",
            "d8caee2ce45c41f8ab5610e6076bf9f4",
            "5a470a91501c470ab5c190d6b78107b4",
            "80b91e5b6e3c43c18fab829e67b267e1",
            "2fcce236d63d4eb2ac06c75ca3647195",
            "58b3f463668e4ff6ac2622093e2ca928",
            "b6136b9b64c84ca79d21bcc77fb71018",
            "63cf4c914de24f05bce990738d1d2c96",
            "b736483efc214ec28ca1a4748e42b1c0",
            "b6749fa3bc44402ea9edfe39529d7d80",
            "f91de7f7db694684adddef883400c624"
          ]
        },
        "id": "o9aKyKEFMO6y",
        "outputId": "90949db7-9b57-43ae-a796-2c777b39a431"
      },
      "execution_count": null,
      "outputs": [
        {
          "output_type": "stream",
          "name": "stdout",
          "text": [
            "1/1 [==============================] - 0s 45ms/step\n",
            "1/1 [==============================] - 0s 58ms/step\n"
          ]
        },
        {
          "output_type": "display_data",
          "data": {
            "text/plain": [
              "Image(value=b\"\\x89PNG\\r\\n\\x1a\\n\\x00\\x00\\x00\\rIHDR\\x00\\x00\\x00\\x1c\\x00\\x00\\x00\\x1c\\x08\\x00\\x00\\x00\\x00Wf\\x80H\\x…"
            ],
            "application/vnd.jupyter.widget-view+json": {
              "version_major": 2,
              "version_minor": 0,
              "model_id": "88754cff593f49abb8f9fa4fcbc6a404"
            }
          },
          "metadata": {}
        },
        {
          "output_type": "display_data",
          "data": {
            "text/plain": [
              "Button(description='No Norm Prediction', style=ButtonStyle())"
            ],
            "application/vnd.jupyter.widget-view+json": {
              "version_major": 2,
              "version_minor": 0,
              "model_id": "33ee9d85a33245b18721536eb11a0eb7"
            }
          },
          "metadata": {}
        },
        {
          "output_type": "display_data",
          "data": {
            "text/plain": [
              "Label(value='Prediction: 7')"
            ],
            "application/vnd.jupyter.widget-view+json": {
              "version_major": 2,
              "version_minor": 0,
              "model_id": "5a470a91501c470ab5c190d6b78107b4"
            }
          },
          "metadata": {}
        },
        {
          "output_type": "display_data",
          "data": {
            "text/plain": [
              "Button(description='Norm Prediction', style=ButtonStyle())"
            ],
            "application/vnd.jupyter.widget-view+json": {
              "version_major": 2,
              "version_minor": 0,
              "model_id": "58b3f463668e4ff6ac2622093e2ca928"
            }
          },
          "metadata": {}
        },
        {
          "output_type": "display_data",
          "data": {
            "text/plain": [
              "Label(value='Prediction: 7')"
            ],
            "application/vnd.jupyter.widget-view+json": {
              "version_major": 2,
              "version_minor": 0,
              "model_id": "b736483efc214ec28ca1a4748e42b1c0"
            }
          },
          "metadata": {}
        }
      ]
    }
  ]
}